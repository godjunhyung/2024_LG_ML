{
  "cells": [
    {
      "cell_type": "markdown",
      "metadata": {
        "id": "view-in-github",
        "colab_type": "text"
      },
      "source": [
        "<a href=\"https://colab.research.google.com/github/godjunhyung/2024_LG_ML/blob/main/Matrix_Factorization.ipynb\" target=\"_parent\"><img src=\"https://colab.research.google.com/assets/colab-badge.svg\" alt=\"Open In Colab\"/></a>"
      ]
    },
    {
      "cell_type": "code",
      "source": [
        "# For colab users\n",
        "import os\n",
        "from google.colab import drive\n",
        "drive.mount('/content/drive')\n",
        "os.chdir('/content/drive/MyDrive/LG/Data/data') # os.chdir('{fill-in-your-path}')"
      ],
      "metadata": {
        "id": "uPyLKkISLT59",
        "colab": {
          "base_uri": "https://localhost:8080/"
        },
        "outputId": "884f563b-b6ba-4a71-d321-9f93a9823cde"
      },
      "execution_count": 2,
      "outputs": [
        {
          "output_type": "stream",
          "name": "stdout",
          "text": [
            "Drive already mounted at /content/drive; to attempt to forcibly remount, call drive.mount(\"/content/drive\", force_remount=True).\n"
          ]
        }
      ]
    },
    {
      "cell_type": "code",
      "execution_count": 7,
      "metadata": {
        "id": "AEzZMpwqK6pn"
      },
      "outputs": [],
      "source": [
        "import numpy as np\n",
        "in_path = '/content/drive/MyDrive/LG/Data/data/ml-1m-raw/'\n",
        "rating_file = in_path + 'ratings.dat'"
      ]
    },
    {
      "cell_type": "code",
      "execution_count": 6,
      "metadata": {
        "id": "QvsQnkZIK6ps",
        "colab": {
          "base_uri": "https://localhost:8080/"
        },
        "outputId": "4b082e2d-8f9a-47ea-acc2-518322120922"
      },
      "outputs": [
        {
          "output_type": "stream",
          "name": "stderr",
          "text": [
            "<ipython-input-6-806ebd7eaf3a>:6: DeprecationWarning: `np.int` is a deprecated alias for the builtin `int`. To silence this warning, use `int` by itself. Doing this will not modify any behavior and is safe. When replacing `np.int`, you may wish to use e.g. `np.int64` or `np.int32` to specify the precision. If you wish to review your current use, check the release note link for additional information.\n",
            "Deprecated in NumPy 1.20; for more details and guidance: https://numpy.org/devdocs/release/1.20.0-notes.html#deprecations\n",
            "  raw = np.array(raw, dtype=np.int)\n"
          ]
        }
      ],
      "source": [
        "raw = []\n",
        "with open(rating_file, 'r') as f_read:\n",
        "    for line in f_read.readlines():\n",
        "        line_list = line.split('::')\n",
        "        raw.append(line_list)\n",
        "raw = np.array(raw, dtype=np.int)"
      ]
    },
    {
      "cell_type": "code",
      "source": [],
      "metadata": {
        "id": "v9FgoGo7wXDo"
      },
      "execution_count": null,
      "outputs": []
    },
    {
      "cell_type": "code",
      "execution_count": 8,
      "metadata": {
        "id": "ykCavX7oK6ps",
        "colab": {
          "base_uri": "https://localhost:8080/"
        },
        "outputId": "fe7b3c76-da97-4bb8-83f1-e1c0bd462053"
      },
      "outputs": [
        {
          "output_type": "execute_result",
          "data": {
            "text/plain": [
              "array([[        1,      1193,         5, 978300760],\n",
              "       [        1,       661,         3, 978302109],\n",
              "       [        1,       914,         3, 978301968],\n",
              "       ...,\n",
              "       [     6040,       562,         5, 956704746],\n",
              "       [     6040,      1096,         4, 956715648],\n",
              "       [     6040,      1097,         4, 956715569]])"
            ]
          },
          "metadata": {},
          "execution_count": 8
        }
      ],
      "source": [
        "raw"
      ]
    },
    {
      "cell_type": "code",
      "execution_count": 9,
      "metadata": {
        "id": "JkoMuW1MK6pu"
      },
      "outputs": [],
      "source": [
        "import matplotlib.pyplot as plt"
      ]
    },
    {
      "cell_type": "code",
      "execution_count": 10,
      "metadata": {
        "id": "qSrSpTl5K6pv"
      },
      "outputs": [],
      "source": [
        "plt.rcParams['figure.figsize'] = (15, 4)"
      ]
    },
    {
      "cell_type": "code",
      "execution_count": 11,
      "metadata": {
        "id": "TNKPGXHwK6pv",
        "colab": {
          "base_uri": "https://localhost:8080/"
        },
        "outputId": "c3e7c717-ac03-4cd3-95d8-1686ee3e9d16"
      },
      "outputs": [
        {
          "output_type": "stream",
          "name": "stdout",
          "text": [
            "users` max freq: 2314\n"
          ]
        }
      ],
      "source": [
        "user_freq = np.bincount(raw[:, 0]) # [user1's freq, user2's freq, ..., userN's freq]\n",
        "user_freq = [i for i in user_freq if i>0] # exclude dummy users\n",
        "user_freq = np.bincount(user_freq)\n",
        "user_x_axis = np.array(range(len(user_freq)))\n",
        "print(f'users` max freq: {len(user_freq)-1}')"
      ]
    },
    {
      "cell_type": "code",
      "execution_count": 12,
      "metadata": {
        "id": "OvLwOZT_K6px",
        "colab": {
          "base_uri": "https://localhost:8080/"
        },
        "outputId": "dd544a8e-1238-4cc2-ad54-95020ac83e06"
      },
      "outputs": [
        {
          "output_type": "stream",
          "name": "stdout",
          "text": [
            "items` max freq: 3428\n"
          ]
        }
      ],
      "source": [
        "item_freq = np.bincount(raw[:, 1]) # [item1's freq, item2's freq, ..., itemM's freq]\n",
        "item_freq = [i for i in item_freq if i>0] # exclude dummy items\n",
        "item_freq = np.bincount(item_freq)\n",
        "item_x_axis = np.array(range(len(item_freq)))\n",
        "print(f'items` max freq: {len(item_freq)-1}')"
      ]
    },
    {
      "cell_type": "code",
      "execution_count": 13,
      "metadata": {
        "id": "CiyExSqYK6px",
        "colab": {
          "base_uri": "https://localhost:8080/",
          "height": 370
        },
        "outputId": "fb16893b-52d0-4e11-919a-7b4ac19a0f27"
      },
      "outputs": [
        {
          "output_type": "display_data",
          "data": {
            "text/plain": [
              "<Figure size 1500x400 with 2 Axes>"
            ],
            "image/png": "[encoded data removed]"
          },
          "metadata": {}
        }
      ],
      "source": [
        "fig, axs = plt.subplots(1, 2)\n",
        "axs[0].plot(user_x_axis, user_freq)\n",
        "axs[0].set_title('user skewness')\n",
        "axs[0].set_xlabel('frequency')\n",
        "axs[0].set_ylabel('num of users')\n",
        "axs[1].plot(item_x_axis, item_freq)\n",
        "axs[1].set_title('item skewness')\n",
        "axs[1].set_xlabel('frequency')\n",
        "axs[1].set_ylabel('num of items')\n",
        "plt.show()"
      ]
    },
    {
      "cell_type": "code",
      "execution_count": 14,
      "metadata": {
        "id": "tV501GFKK6py",
        "colab": {
          "base_uri": "https://localhost:8080/"
        },
        "outputId": "1dbd4d29-fb98-462d-d544-4bd5b1e6c185"
      },
      "outputs": [
        {
          "output_type": "stream",
          "name": "stdout",
          "text": [
            "(1000209, 3)\n"
          ]
        }
      ],
      "source": [
        "user_ids = list()\n",
        "item_ids = list()\n",
        "user_map = dict() # raw -> new\n",
        "item_map = dict() # raw -> new\n",
        "\n",
        "user_ids = np.unique(raw[:, 0])\n",
        "item_ids = np.unique(raw[:, 1])\n",
        "\n",
        "user_map = {v: i for (i, v) in enumerate(user_ids)}\n",
        "item_map = {v: i for (i, v) in enumerate(item_ids)}\n",
        "\n",
        "new = [[user_map[u], item_map[i], r] for (u, i, r)\n",
        "       in zip(raw[:, 0], raw[:, 1], raw[:, 2])] # new array\n",
        "new = np.array(new)\n",
        "print(new.shape)"
      ]
    },
    {
      "cell_type": "code",
      "execution_count": 15,
      "metadata": {
        "id": "pv4in3VHK6pz"
      },
      "outputs": [],
      "source": [
        "from sklearn.model_selection import train_test_split"
      ]
    },
    {
      "cell_type": "code",
      "execution_count": 16,
      "metadata": {
        "id": "qjVw29kYK6p0"
      },
      "outputs": [],
      "source": [
        "train, test = train_test_split(new, test_size=0.2, shuffle=True, random_state=42)"
      ]
    },
    {
      "cell_type": "code",
      "execution_count": 17,
      "metadata": {
        "id": "nR6jhEtlK6p0",
        "colab": {
          "base_uri": "https://localhost:8080/"
        },
        "outputId": "cc55268a-2203-4db2-f2c1-ce112b183639"
      },
      "outputs": [
        {
          "output_type": "stream",
          "name": "stdout",
          "text": [
            "(800167, 3)\n",
            "(200042, 3)\n"
          ]
        }
      ],
      "source": [
        "print(train.shape)\n",
        "print(test.shape)"
      ]
    },
    {
      "cell_type": "code",
      "execution_count": null,
      "metadata": {
        "id": "OGxmqsZLK6p1"
      },
      "outputs": [],
      "source": []
    },
    {
      "cell_type": "code",
      "execution_count": 18,
      "metadata": {
        "id": "PAUVoAJ0K6p1"
      },
      "outputs": [],
      "source": [
        "num_users = max(max(train[:, 0]), max(test[:, 0])) + 1\n",
        "num_items = max(max(test[:, 1]), max(test[:, 1])) + 1"
      ]
    },
    {
      "cell_type": "code",
      "source": [
        "num_users = len(user_map)\n",
        "num_items = len(item_map)"
      ],
      "metadata": {
        "id": "0iqCZGccSySq"
      },
      "execution_count": 19,
      "outputs": []
    },
    {
      "cell_type": "code",
      "execution_count": 20,
      "metadata": {
        "id": "xgBu_Ff2K6p2"
      },
      "outputs": [],
      "source": [
        "'''\n",
        "P: |U| * K (User latent factors)\n",
        "Q: |I| * K (Item latent factors)\n",
        "K: latent dimensionality\n",
        "'''\n",
        "K = 10\n",
        "P = np.random.rand(num_users, K)\n",
        "Q = np.random.rand(num_items, K)\n",
        "Q = Q.T"
      ]
    },
    {
      "cell_type": "code",
      "execution_count": 21,
      "metadata": {
        "id": "xNpJLVXWK6p2"
      },
      "outputs": [],
      "source": [
        "'''\n",
        "epochs: iterations\n",
        "alpha: learning rate\n",
        "beta: regularization parameter\n",
        "'''\n",
        "epochs=20\n",
        "alpha=0.0002\n",
        "beta=0.02"
      ]
    },
    {
      "cell_type": "code",
      "execution_count": 22,
      "metadata": {
        "id": "toOS2IaNK6p3"
      },
      "outputs": [],
      "source": [
        "from sklearn.metrics import mean_squared_error\n",
        "import time"
      ]
    },
    {
      "cell_type": "code",
      "source": [
        "rating_mean = np.mean(train[:,2])\n",
        "train_wo_gb = np.copy(train)\n",
        "train_wo_gb[:,2] = train_wo_gb[:, 2] - rating_mean"
      ],
      "metadata": {
        "id": "uF5MSe7fHP7k"
      },
      "execution_count": 24,
      "outputs": []
    },
    {
      "cell_type": "code",
      "source": [
        "import pandas as pd\n",
        "\n",
        "train_df = pd.DataFrame(train, columns = ['uid', 'iid', 'rating'])\n",
        "user_bias = train_df.groupby('uid')"
      ],
      "metadata": {
        "id": "O1KY3OuJHslo"
      },
      "execution_count": null,
      "outputs": []
    },
    {
      "cell_type": "code",
      "execution_count": 23,
      "metadata": {
        "id": "0zjZOkPPK6p3",
        "colab": {
          "base_uri": "https://localhost:8080/"
        },
        "outputId": "dde89d15-5f0c-45d0-8cbf-73cb5b76cbc1"
      },
      "outputs": [
        {
          "output_type": "stream",
          "name": "stdout",
          "text": [
            "[54.75s] Epoch:   0,  TrnRMSE: 1.2279, TestRMSE: 1.2330\n",
            "[55.02s] Epoch:   1,  TrnRMSE: 1.0995, TestRMSE: 1.1078\n",
            "[56.47s] Epoch:   2,  TrnRMSE: 1.0424, TestRMSE: 1.0530\n",
            "[56.35s] Epoch:   3,  TrnRMSE: 1.0100, TestRMSE: 1.0222\n",
            "[56.70s] Epoch:   4,  TrnRMSE: 0.9889, TestRMSE: 1.0024\n",
            "[56.16s] Epoch:   5,  TrnRMSE: 0.9742, TestRMSE: 0.9887\n",
            "[54.73s] Epoch:   6,  TrnRMSE: 0.9632, TestRMSE: 0.9786\n",
            "[54.76s] Epoch:   7,  TrnRMSE: 0.9547, TestRMSE: 0.9708\n",
            "[56.79s] Epoch:   8,  TrnRMSE: 0.9480, TestRMSE: 0.9648\n",
            "[55.22s] Epoch:   9,  TrnRMSE: 0.9424, TestRMSE: 0.9598\n",
            "[56.77s] Epoch:  10,  TrnRMSE: 0.9378, TestRMSE: 0.9558\n",
            "[55.79s] Epoch:  11,  TrnRMSE: 0.9339, TestRMSE: 0.9524\n",
            "[56.18s] Epoch:  12,  TrnRMSE: 0.9306, TestRMSE: 0.9495\n",
            "[57.96s] Epoch:  13,  TrnRMSE: 0.9277, TestRMSE: 0.9470\n",
            "[55.82s] Epoch:  14,  TrnRMSE: 0.9251, TestRMSE: 0.9449\n",
            "[55.02s] Epoch:  15,  TrnRMSE: 0.9229, TestRMSE: 0.9430\n",
            "[54.88s] Epoch:  16,  TrnRMSE: 0.9209, TestRMSE: 0.9414\n",
            "[55.95s] Epoch:  17,  TrnRMSE: 0.9191, TestRMSE: 0.9399\n",
            "[54.04s] Epoch:  18,  TrnRMSE: 0.9174, TestRMSE: 0.9386\n",
            "[55.05s] Epoch:  19,  TrnRMSE: 0.9160, TestRMSE: 0.9375\n"
          ]
        }
      ],
      "source": [
        "for epoch in range(epochs):\n",
        "    start_time = time.time()\n",
        "    # train\n",
        "    for row in train:\n",
        "        i, j, r = row[0], row[1], row[2]\n",
        "\n",
        "        # calculate error\n",
        "        eij = r - np.dot(P[i, :], Q[:, j])\n",
        "\n",
        "        for k in range(K):\n",
        "            # calculate gradient with a and beta parameter\n",
        "            P[i][k] = P[i][k] + alpha * (2 * eij * Q[k][j] - beta * P[i][k])\n",
        "            Q[k][j] = Q[k][j] + alpha * (2 * eij * P[i][k] - beta * Q[k][j])\n",
        "\n",
        "    # evaluation on training dataset\n",
        "    train_y = []\n",
        "    train_y_pred = []\n",
        "\n",
        "    for row in train:\n",
        "        i, j, r = row[0], row[1], row[2]\n",
        "        train_y.append(r)\n",
        "        train_y_pred.append(np.dot(P[i, :], Q[:, j]))\n",
        "\n",
        "    train_rmse = mean_squared_error(train_y, train_y_pred)**0.5\n",
        "\n",
        "    # evaluation on test dataset\n",
        "    test_y = []\n",
        "    test_y_pred = []\n",
        "\n",
        "    for row in test:\n",
        "        i, j, r = row[0], row[1], row[2]\n",
        "        test_y.append(r)\n",
        "        test_y_pred.append(np.dot(P[i, :], Q[:, j]))\n",
        "\n",
        "    test_rmse = mean_squared_error(test_y, test_y_pred)**0.5\n",
        "    end_time = time.time()\n",
        "    print(f'[{end_time-start_time:.2f}s] Epoch: {epoch:3d}, ',\n",
        "          f'TrnRMSE: {train_rmse:.4f}, TestRMSE: {test_rmse:.4f}')"
      ]
    },
    {
      "cell_type": "code",
      "execution_count": null,
      "metadata": {
        "id": "Fb525y-zK6p4"
      },
      "outputs": [],
      "source": []
    }
  ],
  "metadata": {
    "kernelspec": {
      "display_name": "Python 3",
      "language": "python",
      "name": "python3"
    },
    "language_info": {
      "codemirror_mode": {
        "name": "ipython",
        "version": 3
      },
      "file_extension": ".py",
      "mimetype": "text/x-python",
      "name": "python",
      "nbconvert_exporter": "python",
      "pygments_lexer": "ipython3",
      "version": "3.7.4"
    },
    "colab": {
      "provenance": [],
      "include_colab_link": true
    }
  },
  "nbformat": 4,
  "nbformat_minor": 0
}